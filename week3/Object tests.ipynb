{
 "cells": [
  {
   "cell_type": "code",
   "execution_count": 1,
   "metadata": {},
   "outputs": [
    {
     "name": "stdout",
     "output_type": "stream",
     "text": [
      "John\n",
      "Vikki\n",
      "[10, 12, 10]\n"
     ]
    },
    {
     "data": {
      "text/plain": [
       "10.666666666666666"
      ]
     },
     "execution_count": 1,
     "metadata": {},
     "output_type": "execute_result"
    }
   ],
   "source": [
    "import objects as ob\n",
    "\n",
    "courses = []\n",
    "\n",
    "math = ob.Course('Maths', 'John', 20, '101', 10)\n",
    "chemistry = ob.Course('Chemistry', 'Anna', 15, '203', 12)\n",
    "biology = ob.Course('Biology', 'Freja', 15 , '301', 10)\n",
    "\n",
    "courses.append(math)\n",
    "courses.append(chemistry)\n",
    "courses.append(biology)\n",
    "\n",
    "print(math.getTeacher())\n",
    "#print(biology.teacher)\n",
    "\n",
    "#vik_data = ob.DataSheet(math, chemistry, biology)\n",
    "vik_data = ob.DataSheet(courses)\n",
    "\n",
    "image_url = 'http://images2.fanpop.com/image/photos/12600000/Wallpaper-vikki-blows-12646352-1024-768.jpg'\n",
    "\n",
    "vikki = ob.Student('Vikki', 'f', vik_data, image_url)\n",
    "\n",
    "print(vikki.getName())\n",
    "\n",
    "print(vik_data.get_grades_as_list())\n",
    "\n",
    "vikki.get_avg_grade()"
   ]
  },
  {
   "cell_type": "code",
   "execution_count": 38,
   "metadata": {},
   "outputs": [
    {
     "name": "stdout",
     "output_type": "stream",
     "text": [
      "Asger\n",
      "-3.0\n",
      "Danish\n",
      "303\n",
      "Mimer\n",
      "25\n",
      "None\n"
     ]
    }
   ],
   "source": [
    "import objects as ob\n",
    "\n",
    "students = ob.generateStudents(5)\n",
    "\n",
    "print(students[4].getName())\n",
    "print(students[4].get_avg_grade())\n",
    "print(students[4].getData().getCourses()[2].getName())\n",
    "print(students[4].getData().getCourses()[2].getClassroom())\n",
    "print(students[4].getData().getCourses()[2].getTeacher())\n",
    "print(students[4].getData().getCourses()[2].getETCS())\n",
    "print(students[4].getData().getCourses()[2].getGrade())"
   ]
  },
  {
   "cell_type": "code",
   "execution_count": 39,
   "metadata": {},
   "outputs": [],
   "source": [
    "import objects as ob\n",
    "\n",
    "ob.writeStudentsToFile('students_in.csv', 8)"
   ]
  },
  {
   "cell_type": "code",
   "execution_count": 61,
   "metadata": {},
   "outputs": [
    {
     "name": "stdout",
     "output_type": "stream",
     "text": [
      "Niels\n",
      "\n",
      "m\n",
      "\n",
      "https://comicwiki.dk/images/a/a8/Claus_Deleuran_prisen_nomineret.png\n",
      "\n",
      "8.6\n",
      "\n",
      "\n",
      "\n",
      "Hanne\n",
      "\n",
      "f\n",
      "\n",
      "https://navn.ku.dk/personnavne/fornavne/fornavne-i-oldtiden/Claus-Deleuran-505px.jpg\n",
      "\n",
      "5.7\n",
      "\n",
      "\n",
      "\n",
      "Signe\n",
      "\n",
      "f\n",
      "\n",
      "http://www.comicsinfo.dk/Digital/thorfinnf.png\n",
      "\n",
      "11.5\n",
      "\n",
      "\n",
      "\n",
      "Troels\n",
      "\n",
      "m\n",
      "\n",
      "http://www.comicsinfo.dk/Digital/thorfinnf.JPG\n",
      "\n",
      "10.4\n",
      "\n",
      "\n",
      "\n",
      "Iben\n",
      "\n",
      "f\n",
      "\n",
      "https://upload.wikimedia.org/wikipedia/commons/thumb/2/2b/WOM_Chile_logo_(fondo_violeta).svg/1024px-WOM_Chile_logo_(fondo_violeta).svg.png\n",
      "\n",
      "10.1\n",
      "\n",
      "\n",
      "\n"
     ]
    }
   ],
   "source": [
    "with open('students.csv') as file_object:\n",
    "    lines = file_object.readlines()\n",
    "    \n",
    "import math\n",
    "\n",
    "#print(math.ceil(len(lines)/4))\n",
    "lin = math.ceil(len(lines)/4)\n",
    "\n",
    "for i in range(0, len(lines), 5):\n",
    "    print(lines[i][6:])\n",
    "    print(lines[i+1][8:])\n",
    "    print(lines[i+2][9:])\n",
    "    print(lines[i+3][11:])\n",
    "    print('\\n')\n"
   ]
  },
  {
   "cell_type": "code",
   "execution_count": 72,
   "metadata": {},
   "outputs": [],
   "source": [
    "import objects as ob\n",
    "\n",
    "def getStudents():\n",
    "    with open('students.csv') as file_object:\n",
    "        lines = file_object.readlines()\n",
    "    \n",
    "    students = []\n",
    "    \n",
    "    n = 0\n",
    "    \n",
    "    for i in range(0, len(lines), 5):\n",
    "        students.append(ob.Student(lines[i][6:-1], lines[i+1][8:-1] , 'data', lines[i+2][9:-1]))\n",
    "        students[n].setAvgGrade(lines[i+3][11:-1])\n",
    "        n = n + 1\n",
    "    return students #returner som liste\n",
    "    \n",
    "    #for x in range(0, len(students)): #print\n",
    "     #   print(students[x].getName())\n",
    "      #  print(students[x].getGender())\n",
    "       # print(students[x].getImage())\n",
    "        #print(students[x].getAvgGrade())"
   ]
  },
  {
   "cell_type": "code",
   "execution_count": 73,
   "metadata": {},
   "outputs": [
    {
     "name": "stdout",
     "output_type": "stream",
     "text": [
      "Niels\n",
      "8.6\n",
      "Hanne\n",
      "5.7\n",
      "Signe\n",
      "11.5\n",
      "Troels\n",
      "10.4\n",
      "Iben\n",
      "10.1\n",
      "\n",
      "\n",
      "Troels\n",
      "10.4\n",
      "Signe\n",
      "11.5\n",
      "Niels\n",
      "8.6\n",
      "Iben\n",
      "10.1\n",
      "Hanne\n",
      "5.7\n"
     ]
    }
   ],
   "source": [
    "stu = getStudents()\n",
    "\n",
    "gradelist = sorted(stu, key=lambda x: x.grade, reverse=True)\n",
    "namelist = sorted(stu, key=lambda x: x.name, reverse=True)\n",
    "\n",
    "stu.sort(key=lambda x: x.grade, reverse=True)\n",
    "\n",
    "for i in gradelist:\n",
    "    print(i.name)\n",
    "    print(i.grade)\n",
    "\n",
    "print('\\n')\n",
    "    \n",
    "for i in namelist:\n",
    "    print(i.name)\n",
    "    print(i.grade)\n",
    "\n",
    "#for i in stu:\n",
    "#    print(i.grade)\n",
    "\n",
    "#print(stu[1].grade)"
   ]
  },
  {
   "cell_type": "code",
   "execution_count": 52,
   "metadata": {},
   "outputs": [
    {
     "name": "stdout",
     "output_type": "stream",
     "text": [
      "['Niels', 'Hanne', 'Signe', 'Troels', 'Iben']\n"
     ]
    }
   ],
   "source": [
    "names = [i.name for i in stu]\n",
    "print(names)"
   ]
  },
  {
   "cell_type": "code",
   "execution_count": 53,
   "metadata": {},
   "outputs": [
    {
     "name": "stdout",
     "output_type": "stream",
     "text": [
      "['8.6', '5.7', '11.5', '10.4', '10.1']\n"
     ]
    }
   ],
   "source": [
    "grades = [i.grade for i in stu]\n",
    "print(grades)"
   ]
  },
  {
   "cell_type": "code",
   "execution_count": 54,
   "metadata": {},
   "outputs": [
    {
     "data": {
      "text/plain": [
       "<Figure size 360x720 with 0 Axes>"
      ]
     },
     "execution_count": 54,
     "metadata": {},
     "output_type": "execute_result"
    },
    {
     "data": {
      "image/png": "[encoded data removed]",
      "text/plain": [
       "<Figure size 432x288 with 1 Axes>"
      ]
     },
     "metadata": {
      "needs_background": "light"
     },
     "output_type": "display_data"
    },
    {
     "data": {
      "text/plain": [
       "<Figure size 360x720 with 0 Axes>"
      ]
     },
     "metadata": {},
     "output_type": "display_data"
    }
   ],
   "source": [
    "import matplotlib.pyplot as plt\n",
    "\n",
    "gradeList = sorted(stu, key=lambda x: x.grade, reverse=True)\n",
    "grades = [i.grade for i in gradeList]\n",
    "names = [i.name for i in gradeList]\n",
    "\n",
    "plt.bar(names, grades)\n",
    "#plt.axis([5, 10, min(grades), max(grades)+10])\n",
    "plt.axis([0, 5, 0, 5])\n",
    "plt.figure(figsize=(5, 10))\n"
   ]
  },
  {
   "cell_type": "code",
   "execution_count": 55,
   "metadata": {},
   "outputs": [],
   "source": [
    "import objects as ob\n",
    "import matplotlib.pyplot as plt\n",
    "\n",
    "def getStudentsAnd(file):\n",
    "    with open(file) as file_object:\n",
    "        lines = file_object.readlines()\n",
    "    \n",
    "    students = []\n",
    "    \n",
    "    n = 0\n",
    "    \n",
    "    for i in range(0, len(lines), 5):\n",
    "        students.append(ob.Student(lines[i][6:-1], lines[i+1][8:-1] , 'data', lines[i+2][9:-1]))\n",
    "        students[n].setAvgGrade(lines[i+3][11:-1])\n",
    "        n = n + 1\n",
    "    #return students\n",
    "    \n",
    "    for x in range(0, len(students)):\n",
    "        print(students[x].getName())\n",
    "        print(students[x].getGender())\n",
    "        print(students[x].getImage())\n",
    "        print(students[x].getAvgGrade())\n",
    "\n",
    "    \n",
    "    gradeList = sorted(students, key=lambda x: x.grade, reverse=True)\n",
    "    grades = [i.grade for i in gradeList]\n",
    "    names = [i.name for i in gradeList]\n",
    "\n",
    "    plt.bar(names, grades)\n",
    "    plt.axis([0, 5, 0, 5])\n",
    "    plt.figure(figsize=(5, 10))\n"
   ]
  },
  {
   "cell_type": "code",
   "execution_count": 56,
   "metadata": {},
   "outputs": [
    {
     "name": "stdout",
     "output_type": "stream",
     "text": [
      "Niels\n",
      "m\n",
      "https://comicwiki.dk/images/a/a8/Claus_Deleuran_prisen_nomineret.png\n",
      "8.6\n",
      "Hanne\n",
      "f\n",
      "https://navn.ku.dk/personnavne/fornavne/fornavne-i-oldtiden/Claus-Deleuran-505px.jpg\n",
      "5.7\n",
      "Signe\n",
      "f\n",
      "http://www.comicsinfo.dk/Digital/thorfinnf.png\n",
      "11.5\n",
      "Troels\n",
      "m\n",
      "http://www.comicsinfo.dk/Digital/thorfinnf.JPG\n",
      "10.4\n",
      "Iben\n",
      "f\n",
      "https://upload.wikimedia.org/wikipedia/commons/thumb/2/2b/WOM_Chile_logo_(fondo_violeta).svg/1024px-WOM_Chile_logo_(fondo_violeta).svg.png\n",
      "10.1\n"
     ]
    },
    {
     "data": {
      "image/png": "[encoded data removed]",
      "text/plain": [
       "<Figure size 432x288 with 1 Axes>"
      ]
     },
     "metadata": {
      "needs_background": "light"
     },
     "output_type": "display_data"
    },
    {
     "data": {
      "text/plain": [
       "<Figure size 360x720 with 0 Axes>"
      ]
     },
     "metadata": {},
     "output_type": "display_data"
    }
   ],
   "source": [
    "getStudentsAnd('students.csv')"
   ]
  },
  {
   "cell_type": "code",
   "execution_count": 123,
   "metadata": {},
   "outputs": [
    {
     "name": "stdout",
     "output_type": "stream",
     "text": [
      "53.3\n",
      "30.0\n",
      "23.3\n",
      "26.7\n",
      "40.0\n",
      "43.3\n",
      "0.0\n"
     ]
    }
   ],
   "source": [
    "import objects as ob\n",
    "\n",
    "student_list = []\n",
    "\n",
    "vik_courses = []\n",
    "per_courses = []\n",
    "jan_courses = []\n",
    "solvej_courses = []\n",
    "ninna_courses = []\n",
    "aster_courses = []\n",
    "agnes_courses = []\n",
    "\n",
    "math = ob.Course('Maths', 'John', 20, '101', 10)\n",
    "chemistry = ob.Course('Chemistry', 'Anna', 15, '203', 12)\n",
    "biology = ob.Course('Biology', 'Freja', 15 , '301', 10)\n",
    "history = ob.Course('History', 'Jørgen', 10, '607', 7)\n",
    "physics = ob.Course('Physics', 'Jon', 15, '302', 4)\n",
    "PE = ob.Course('Physical education', 'Janne', 5 , '909', 7)\n",
    "german = ob.Course('German', 'Jorgen', 10, '701', 4)\n",
    "danish = ob.Course('Danish', 'Hanne', 15, '909', 12)\n",
    "english = ob.Course('English', 'Ole', 10, '504', 7)\n",
    "sociology = ob.Course('Sociology', 'Iben', 15, '203', 10)\n",
    "\n",
    "vik_courses.append(math)\n",
    "vik_courses.append(chemistry)\n",
    "vik_courses.append(biology)\n",
    "vik_courses.append(history)\n",
    "vik_courses.append(sociology)\n",
    "vik_courses.append(PE)\n",
    "\n",
    "per_courses.append(german)\n",
    "per_courses.append(danish)\n",
    "per_courses.append(english)\n",
    "per_courses.append(history)\n",
    "\n",
    "jan_courses.append(math)\n",
    "jan_courses.append(biology)\n",
    "\n",
    "solvej_courses.append(history)\n",
    "solvej_courses.append(chemistry)\n",
    "solvej_courses.append(sociology)\n",
    "\n",
    "ninna_courses.append(chemistry)\n",
    "ninna_courses.append(math)\n",
    "ninna_courses.append(english)\n",
    "ninna_courses.append(physics)\n",
    "\n",
    "aster_courses.append(PE)\n",
    "aster_courses.append(english)\n",
    "aster_courses.append(biology)\n",
    "aster_courses.append(chemistry)\n",
    "aster_courses.append(math)\n",
    "\n",
    "image_url = 'http://images2.fanpop.com/image/photos/12600000/Wallpaper-vikki-blows-12646352-1024-768.jpg'\n",
    "\n",
    "vik_data = ob.DataSheet(vik_courses)\n",
    "vikki = ob.Student('Vikki', 'f', vik_data, image_url)\n",
    "student_list.append(vikki)\n",
    "\n",
    "per_data = ob.DataSheet(per_courses)\n",
    "per = ob.Student('Per', 'm', per_data, image_url)\n",
    "student_list.append(per)\n",
    "\n",
    "jan_data = ob.DataSheet(jan_courses)\n",
    "jan = ob.Student('Jan', 'm', jan_data, image_url)\n",
    "student_list.append(jan)\n",
    "\n",
    "solvej_data = ob.DataSheet(solvej_courses)\n",
    "solvej = ob.Student('Solvej', 'f', solvej_data, image_url)\n",
    "student_list.append(solvej)\n",
    "\n",
    "ninna_data = ob.DataSheet(ninna_courses)\n",
    "ninna = ob.Student('Ninna', 'f', ninna_data, image_url)\n",
    "student_list.append(ninna)\n",
    "\n",
    "aster_data = ob.DataSheet(aster_courses)\n",
    "aster = ob.Student('Aster', 'f', aster_data, image_url)\n",
    "student_list.append(aster)\n",
    "\n",
    "agnes_data = ob.DataSheet(agnes_courses)\n",
    "agnes = ob.Student('Agnes', 'f', agnes_data, image_url)\n",
    "student_list.append(agnes)\n",
    "\n",
    "for i in range(0, len(student_list)):\n",
    "    print(round(student_list[i].get_ETCS(), 1))"
   ]
  },
  {
   "cell_type": "code",
   "execution_count": 2,
   "metadata": {},
   "outputs": [],
   "source": [
    "progress = [0, 10, 20, 30, 40, 50, 60, 70, 80, 90, 100]\n",
    "poss = [0, 0, 0,0,0,0,0,0,0,0,0]\n",
    "\n",
    "for i in range(0, len(student_list)):\n",
    "    #print(student_list[i].get_ETCS())\n",
    "    for n in range(0, len(progress)):\n",
    "        if (round(student_list[i].get_ETCS(), 1) == progress[n]):\n",
    "            poss[n] + 1"
   ]
  },
  {
   "cell_type": "code",
   "execution_count": 10,
   "metadata": {},
   "outputs": [
    {
     "name": "stdout",
     "output_type": "stream",
     "text": [
      "f\n",
      "43.333333333333336\n"
     ]
    }
   ],
   "source": [
    "student_list\n",
    "\n",
    "\n",
    "print(student_list[5].gender)\n",
    "print(student_list[5].get_ETCS())"
   ]
  },
  {
   "cell_type": "code",
   "execution_count": 27,
   "metadata": {},
   "outputs": [],
   "source": [
    "#Opgave 2: exceptions\n",
    "#\n",
    "#\n",
    "#\n",
    "#\n",
    "#"
   ]
  },
  {
   "cell_type": "code",
   "execution_count": 69,
   "metadata": {},
   "outputs": [],
   "source": [
    "class ListTooShortError(ValueError):\n",
    "    def __init__(self, *args, **kwargs):\n",
    "        ValueError.__init__(self, *args, **kwargs)\n",
    "\n",
    "def Nmaxelements(list1, N): \n",
    "    if len(list1) < N:\n",
    "        raise ListTooShortError('Given list is shorter than {}!'.format(N))\n",
    "    \n",
    "    final_list = [] \n",
    "  \n",
    "    for i in range(0, N): #kører nedenstående N gange, \n",
    "        max1 = 0  \n",
    "        #print(type(max1))\n",
    "        last = 0\n",
    "        obj = None\n",
    "        \n",
    "        for j in range(0, len(list1)): #finder den største i listen   \n",
    "            #print(type(list1[j].get_ETCS()))\n",
    "            if list1[j].get_ETCS() > max1: \n",
    "                max1 = list1[j].get_ETCS(); \n",
    "                obj = list1[j]\n",
    "                last = j\n",
    "                  \n",
    "        list1.pop(last) #den højeste værdi fjernes så den ikke vælges igen \n",
    "        #final_list.append(max1) #max1 gives til endelige liste\n",
    "        final_list.append(obj)\n",
    "     \n",
    "    return final_list\n",
    "    #print(final_list) \n",
    "    #for i in range(0, len(final_list)):\n",
    "     #   print(final_list[i].get_ETCS())"
   ]
  },
  {
   "cell_type": "code",
   "execution_count": 71,
   "metadata": {},
   "outputs": [],
   "source": [
    "max_list = Nmaxelements(student_list, 3)\n",
    "#Nmaxelements(student_list, 3)"
   ]
  },
  {
   "cell_type": "code",
   "execution_count": 72,
   "metadata": {},
   "outputs": [
    {
     "name": "stdout",
     "output_type": "stream",
     "text": [
      "53.333333333333336\n",
      "43.333333333333336\n",
      "40.0\n"
     ]
    }
   ],
   "source": [
    "for i in range(0, len(max_list)):\n",
    "    print(max_list[i].get_ETCS())"
   ]
  },
  {
   "cell_type": "code",
   "execution_count": 124,
   "metadata": {},
   "outputs": [],
   "source": [
    "class ListTooShortError(ValueError):\n",
    "    def __init__(self, *args, **kwargs):\n",
    "        ValueError.__init__(self, *args, **kwargs)\n",
    "\n",
    "class StudentDataNone(ValueError):\n",
    "    def __init__(self, *args, **kwargs):\n",
    "        ValueError.__init__(self, *args, **kwargs)\n",
    "        \n",
    "\n",
    "def WriteNmaxelementsToFile(list1, N, filename): \n",
    "    if len(list1) < N:\n",
    "        raise ListTooShortError('Given list is shorter than {}!'.format(N))\n",
    "    \n",
    "    final_list = [] \n",
    "  \n",
    "    for i in range(0, N): #kører nedenstående N gange, \n",
    "        max1 = 0\n",
    "        last = 0\n",
    "        obj = None\n",
    "        \n",
    "        for j in range(len(list1)): #finder den største i listen   \n",
    "            if list1[j].get_ETCS() > max1: \n",
    "                max1 = list1[j].get_ETCS(); \n",
    "                last = j\n",
    "                obj = list1[j]\n",
    "                  \n",
    "        list1.pop(last) #den højeste værdi fjernes så den ikke vælges igen \n",
    "        final_list.append(obj) #max1 gives til endelige liste\n",
    "        \n",
    "        final_list = []\n",
    "          \n",
    "    with open(filename, 'a') as studentFile:\n",
    "        if final_list:\n",
    "            for student in final_list:\n",
    "                studentFile.write('Name of student: ')\n",
    "                studentFile.write(student.getName())\n",
    "                studentFile.write('\\n')\n",
    "                studentFile.write('Completion: ')\n",
    "                studentFile.write(str(student.get_ETCS()))\n",
    "                studentFile.write('\\n')\n",
    "                studentFile.write('Gender of student: ')\n",
    "                studentFile.write(student.getGender())\n",
    "                studentFile.write('\\n')\n",
    "                studentFile.write('Student image url: ')\n",
    "                studentFile.write(student.getImage())\n",
    "                studentFile.write('\\n')\n",
    "                studentFile.write('\\n')\n",
    "            \n",
    "                studentFile.write('Course 1: ')\n",
    "                studentFile.write(student.getData().getCourses()[0].getName())\n",
    "                studentFile.write('\\n')\n",
    "                studentFile.write('Classroom: ')\n",
    "                studentFile.write(str(student.getData().getCourses()[0].getClassroom()))\n",
    "                studentFile.write('\\n')\n",
    "                studentFile.write('Teacher: ')\n",
    "                studentFile.write(student.getData().getCourses()[0].getTeacher())\n",
    "                studentFile.write('\\n')\n",
    "                studentFile.write('Grade: ')\n",
    "                studentFile.write(str(student.getData().getCourses()[0].getGrade()))\n",
    "                studentFile.write('\\n')\n",
    "                studentFile.write('\\n')\n",
    "                      \n",
    "                studentFile.write('Course 2: ')\n",
    "                studentFile.write(student.getData().getCourses()[1].getName())\n",
    "                studentFile.write('\\n')\n",
    "                studentFile.write('Classroom: ')\n",
    "                studentFile.write(str(student.getData().getCourses()[1].getClassroom()))\n",
    "                studentFile.write('\\n')\n",
    "                studentFile.write('Teacher: ')\n",
    "                studentFile.write(student.getData().getCourses()[1].getTeacher())\n",
    "                studentFile.write('\\n')\n",
    "                studentFile.write('Grade: ')\n",
    "                studentFile.write(str(student.getData().getCourses()[1].getGrade()))\n",
    "                studentFile.write('\\n')\n",
    "                studentFile.write('\\n')\n",
    "                      \n",
    "                studentFile.write('Course 3: ')\n",
    "                studentFile.write(student.getData().getCourses()[2].getName())\n",
    "                studentFile.write('\\n')\n",
    "                studentFile.write('Classroom: ')\n",
    "                studentFile.write(str(student.getData().getCourses()[2].getClassroom()))\n",
    "                studentFile.write('\\n')\n",
    "                studentFile.write('Teacher: ')\n",
    "                studentFile.write(student.getData().getCourses()[2].getTeacher())\n",
    "                studentFile.write('\\n')\n",
    "                studentFile.write('Grade: ')\n",
    "                studentFile.write(str(student.getData().getCourses()[2].getGrade()))\n",
    "                studentFile.write('\\n')\n",
    "                studentFile.write('\\n')\n",
    "                studentFile.write('\\n')\n",
    "                studentFile.write('\\n')\n",
    "        else:\n",
    "            studentFile.write('Student data is empty')\n",
    "            raise StudentDataNone('Student data is empty')\n",
    "            \n"
   ]
  },
  {
   "cell_type": "code",
   "execution_count": 125,
   "metadata": {},
   "outputs": [
    {
     "ename": "StudentDataNone",
     "evalue": "Student data is empty",
     "output_type": "error",
     "traceback": [
      "\u001b[1;31m---------------------------------------------------------------------------\u001b[0m",
      "\u001b[1;31mStudentDataNone\u001b[0m                           Traceback (most recent call last)",
      "\u001b[1;32m<ipython-input-125-67123a3e69f8>\u001b[0m in \u001b[0;36m<module>\u001b[1;34m\u001b[0m\n\u001b[1;32m----> 1\u001b[1;33m \u001b[0mWriteNmaxelementsToFile\u001b[0m\u001b[1;33m(\u001b[0m\u001b[0mstudent_list\u001b[0m\u001b[1;33m,\u001b[0m \u001b[1;36m3\u001b[0m\u001b[1;33m,\u001b[0m \u001b[1;34m'complete_students.csv'\u001b[0m\u001b[1;33m)\u001b[0m\u001b[1;33m\u001b[0m\u001b[1;33m\u001b[0m\u001b[0m\n\u001b[0m\u001b[0;32m      2\u001b[0m \u001b[1;31m#student_list[4].getName()\u001b[0m\u001b[1;33m\u001b[0m\u001b[1;33m\u001b[0m\u001b[1;33m\u001b[0m\u001b[0m\n\u001b[0;32m      3\u001b[0m \u001b[1;31m#for i in range(0, len(student_list)):\u001b[0m\u001b[1;33m\u001b[0m\u001b[1;33m\u001b[0m\u001b[1;33m\u001b[0m\u001b[0m\n\u001b[0;32m      4\u001b[0m \u001b[1;31m#    print(student_list[i].getName())\u001b[0m\u001b[1;33m\u001b[0m\u001b[1;33m\u001b[0m\u001b[1;33m\u001b[0m\u001b[0m\n",
      "\u001b[1;32m<ipython-input-124-ec0cf176adf2>\u001b[0m in \u001b[0;36mWriteNmaxelementsToFile\u001b[1;34m(list1, N, filename)\u001b[0m\n\u001b[0;32m     92\u001b[0m         \u001b[1;32melse\u001b[0m\u001b[1;33m:\u001b[0m\u001b[1;33m\u001b[0m\u001b[1;33m\u001b[0m\u001b[0m\n\u001b[0;32m     93\u001b[0m             \u001b[0mstudentFile\u001b[0m\u001b[1;33m.\u001b[0m\u001b[0mwrite\u001b[0m\u001b[1;33m(\u001b[0m\u001b[1;34m'Student data is empty'\u001b[0m\u001b[1;33m)\u001b[0m\u001b[1;33m\u001b[0m\u001b[1;33m\u001b[0m\u001b[0m\n\u001b[1;32m---> 94\u001b[1;33m             \u001b[1;32mraise\u001b[0m \u001b[0mStudentDataNone\u001b[0m\u001b[1;33m(\u001b[0m\u001b[1;34m'Student data is empty'\u001b[0m\u001b[1;33m)\u001b[0m\u001b[1;33m\u001b[0m\u001b[1;33m\u001b[0m\u001b[0m\n\u001b[0m\u001b[0;32m     95\u001b[0m \u001b[1;33m\u001b[0m\u001b[0m\n",
      "\u001b[1;31mStudentDataNone\u001b[0m: Student data is empty"
     ]
    }
   ],
   "source": [
    "WriteNmaxelementsToFile(student_list, 3, 'complete_students.csv')\n",
    "#student_list[4].getName()\n",
    "#for i in range(0, len(student_list)):\n",
    "#    print(student_list[i].getName())"
   ]
  }
 ],
 "metadata": {
  "kernelspec": {
   "display_name": "Python 3",
   "language": "python",
   "name": "python3"
  },
  "language_info": {
   "codemirror_mode": {
    "name": "ipython",
    "version": 3
   },
   "file_extension": ".py",
   "mimetype": "text/x-python",
   "name": "python",
   "nbconvert_exporter": "python",
   "pygments_lexer": "ipython3",
   "version": "3.7.4"
  }
 },
 "nbformat": 4,
 "nbformat_minor": 2
}
